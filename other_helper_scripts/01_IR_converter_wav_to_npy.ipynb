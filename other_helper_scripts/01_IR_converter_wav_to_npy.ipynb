{
 "cells": [
  {
   "cell_type": "markdown",
   "id": "8c3953b7",
   "metadata": {},
   "source": [
    "### Helper: Impulse Response Converter (wav to npy)\n",
    "\n",
    "There is no established industry standards to storing impulse repsonses. 2 common formats used to do so are \".npy\" and \"wav\", of which the latter contains information about the sampling rate.\n",
    "\n",
    "As a convention, FAST uses \".npy\" IRs, with the requirement that all IRs are sampled at 16kHz. The following script will aid you in converting a folder of IRs in the wav format into its npy form."
   ]
  },
  {
   "cell_type": "code",
   "execution_count": 19,
   "id": "4ab87170",
   "metadata": {},
   "outputs": [],
   "source": [
    "## Designate path to folder of IRs, and output folder\n",
    "folder_path = \"./01_impulse_response_samples\"\n",
    "output_folder = \"../data/Impulse_Responses/room_IRs\""
   ]
  },
  {
   "cell_type": "code",
   "execution_count": 20,
   "id": "8041a9d3",
   "metadata": {},
   "outputs": [],
   "source": [
    "## Create Helper Function for conversion\n",
    "\n",
    "import os\n",
    "import torchaudio\n",
    "import numpy\n",
    "\n",
    "def IR_wav_to_npy (folder_path = folder_path,\n",
    "                   output_path = output_folder,\n",
    "                   new_freq = 16000):\n",
    "    \n",
    "    counter = 1\n",
    "    \n",
    "    for file in os.listdir(folder_path):\n",
    "        print(f\"Processing {file}; {counter} out of {len(os.listdir(folder_path))} files\")\n",
    "        # Check if a wav file is indeed found and load audio file\n",
    "        if file.split('.')[-1] != \"wav\":\n",
    "            print(f\"Skipping file: {file}\")\n",
    "            continue\n",
    "\n",
    "        else:\n",
    "            audio_data, sr = torchaudio.load(os.path.join(folder_path, file))\n",
    "\n",
    "        # Resample wav file to 16kHz format if not already in 16kHz\n",
    "        if sr == 16000:\n",
    "            print(\"Sampling rate already at 16kHz\")\n",
    "        else: \n",
    "            audio_data = torchaudio.functional.resample(waveform = audio_data,\n",
    "                                                        orig_freq=sr,\n",
    "                                                        new_freq=new_freq,\n",
    "                                                        resampling_method=\"sinc_interp_kaiser\")\n",
    "            \n",
    "        # Export resampled wav file as npy\n",
    "        numpy.save(f\"{os.path.join(output_folder,file)}\", audio_data.numpy().squeeze())\n",
    "\n",
    "        counter += 1"
   ]
  },
  {
   "cell_type": "code",
   "execution_count": 21,
   "id": "b7f76c30",
   "metadata": {},
   "outputs": [
    {
     "name": "stdout",
     "output_type": "stream",
     "text": [
      "Processing Room007-00005.wav; 1 out of 10 files\n",
      "Sampling rate already at 16kHz\n",
      "Processing Room007-00010.wav; 2 out of 10 files\n",
      "Sampling rate already at 16kHz\n",
      "Processing Room007-00004.wav; 3 out of 10 files\n",
      "Sampling rate already at 16kHz\n",
      "Processing Room007-00006.wav; 4 out of 10 files\n",
      "Sampling rate already at 16kHz\n",
      "Processing Room007-00007.wav; 5 out of 10 files\n",
      "Sampling rate already at 16kHz\n",
      "Processing Room007-00003.wav; 6 out of 10 files\n",
      "Sampling rate already at 16kHz\n",
      "Processing Room007-00002.wav; 7 out of 10 files\n",
      "Sampling rate already at 16kHz\n",
      "Processing Room007-00001.wav; 8 out of 10 files\n",
      "Sampling rate already at 16kHz\n",
      "Processing Room007-00009.wav; 9 out of 10 files\n",
      "Sampling rate already at 16kHz\n",
      "Processing Room007-00008.wav; 10 out of 10 files\n",
      "Sampling rate already at 16kHz\n"
     ]
    }
   ],
   "source": [
    "IR_wav_to_npy()"
   ]
  },
  {
   "cell_type": "code",
   "execution_count": null,
   "id": "55f2b604",
   "metadata": {},
   "outputs": [],
   "source": []
  }
 ],
 "metadata": {
  "kernelspec": {
   "display_name": "fast",
   "language": "python",
   "name": "python3"
  },
  "language_info": {
   "codemirror_mode": {
    "name": "ipython",
    "version": 3
   },
   "file_extension": ".py",
   "mimetype": "text/x-python",
   "name": "python",
   "nbconvert_exporter": "python",
   "pygments_lexer": "ipython3",
   "version": "3.10.18"
  }
 },
 "nbformat": 4,
 "nbformat_minor": 5
}
